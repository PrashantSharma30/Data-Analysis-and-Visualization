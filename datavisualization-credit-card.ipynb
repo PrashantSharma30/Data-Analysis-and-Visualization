{
 "cells": [
  {
   "cell_type": "markdown",
   "id": "1ee0f018",
   "metadata": {
    "papermill": {
     "duration": 0.007897,
     "end_time": "2025-07-31T18:14:02.406035",
     "exception": false,
     "start_time": "2025-07-31T18:14:02.398138",
     "status": "completed"
    },
    "tags": []
   },
   "source": [
    "# **Introduction About the Notebook**\n",
    "This Notebook is based on the Credit Card Spendings in India Dataset. In this notebook I have tried to analyze the spending patterns based on City, Card Type, Month of Spending.\n",
    "This notebook works as a step for those who want to learn about various visualization libraries in Python and their important functions."
   ]
  },
  {
   "cell_type": "markdown",
   "id": "c7429c8a",
   "metadata": {
    "papermill": {
     "duration": 0.005738,
     "end_time": "2025-07-31T18:14:02.419322",
     "exception": false,
     "start_time": "2025-07-31T18:14:02.413584",
     "status": "completed"
    },
    "tags": []
   },
   "source": [
    "# Importing Libraries"
   ]
  },
  {
   "cell_type": "code",
   "execution_count": 1,
   "id": "14cbb43d",
   "metadata": {
    "execution": {
     "iopub.execute_input": "2025-07-31T18:14:02.433876Z",
     "iopub.status.busy": "2025-07-31T18:14:02.433433Z",
     "iopub.status.idle": "2025-07-31T18:14:07.200377Z",
     "shell.execute_reply": "2025-07-31T18:14:07.199150Z"
    },
    "papermill": {
     "duration": 4.776606,
     "end_time": "2025-07-31T18:14:07.202613",
     "exception": false,
     "start_time": "2025-07-31T18:14:02.426007",
     "status": "completed"
    },
    "tags": []
   },
   "outputs": [],
   "source": [
    "import numpy as np\n",
    "import pandas as pd\n",
    "import seaborn as sns\n",
    "import matplotlib.pyplot as plt\n",
    "import warnings \n",
    "warnings.filterwarnings(\"ignore\") #Used to supress any warnings caused to depreciated functions."
   ]
  },
  {
   "cell_type": "markdown",
   "id": "690a2b25",
   "metadata": {
    "papermill": {
     "duration": 0.00602,
     "end_time": "2025-07-31T18:14:07.214899",
     "exception": false,
     "start_time": "2025-07-31T18:14:07.208879",
     "status": "completed"
    },
    "tags": []
   },
   "source": [
    "# Loading the Dataset"
   ]
  },
  {
   "cell_type": "code",
   "execution_count": 2,
   "id": "59296062",
   "metadata": {
    "execution": {
     "iopub.execute_input": "2025-07-31T18:14:07.228217Z",
     "iopub.status.busy": "2025-07-31T18:14:07.227607Z",
     "iopub.status.idle": "2025-07-31T18:14:07.281119Z",
     "shell.execute_reply": "2025-07-31T18:14:07.279887Z"
    },
    "papermill": {
     "duration": 0.062714,
     "end_time": "2025-07-31T18:14:07.283575",
     "exception": false,
     "start_time": "2025-07-31T18:14:07.220861",
     "status": "completed"
    },
    "tags": []
   },
   "outputs": [],
   "source": [
    "df=pd.read_csv('/kaggle/input/credit-card-spending-in-india/Credit Card Spending in India.csv')"
   ]
  },
  {
   "cell_type": "markdown",
   "id": "3bcd0d96",
   "metadata": {
    "papermill": {
     "duration": 0.006206,
     "end_time": "2025-07-31T18:14:07.297231",
     "exception": false,
     "start_time": "2025-07-31T18:14:07.291025",
     "status": "completed"
    },
    "tags": []
   },
   "source": [
    "# Basic Functions"
   ]
  },
  {
   "cell_type": "code",
   "execution_count": 3,
   "id": "a99d47f7",
   "metadata": {
    "execution": {
     "iopub.execute_input": "2025-07-31T18:14:07.312006Z",
     "iopub.status.busy": "2025-07-31T18:14:07.311631Z",
     "iopub.status.idle": "2025-07-31T18:14:07.345636Z",
     "shell.execute_reply": "2025-07-31T18:14:07.344135Z"
    },
    "papermill": {
     "duration": 0.043128,
     "end_time": "2025-07-31T18:14:07.347383",
     "exception": false,
     "start_time": "2025-07-31T18:14:07.304255",
     "status": "completed"
    },
    "tags": []
   },
   "outputs": [
    {
     "data": {
      "text/html": [
       "<div>\n",
       "<style scoped>\n",
       "    .dataframe tbody tr th:only-of-type {\n",
       "        vertical-align: middle;\n",
       "    }\n",
       "\n",
       "    .dataframe tbody tr th {\n",
       "        vertical-align: top;\n",
       "    }\n",
       "\n",
       "    .dataframe thead th {\n",
       "        text-align: right;\n",
       "    }\n",
       "</style>\n",
       "<table border=\"1\" class=\"dataframe\">\n",
       "  <thead>\n",
       "    <tr style=\"text-align: right;\">\n",
       "      <th></th>\n",
       "      <th>index</th>\n",
       "      <th>City</th>\n",
       "      <th>Date</th>\n",
       "      <th>Card Type</th>\n",
       "      <th>Exp Type</th>\n",
       "      <th>Gender</th>\n",
       "      <th>Amount</th>\n",
       "    </tr>\n",
       "  </thead>\n",
       "  <tbody>\n",
       "    <tr>\n",
       "      <th>0</th>\n",
       "      <td>0.0</td>\n",
       "      <td>Delhi, India</td>\n",
       "      <td>29-Oct-14</td>\n",
       "      <td>Gold</td>\n",
       "      <td>Bills</td>\n",
       "      <td>F</td>\n",
       "      <td>82475.0</td>\n",
       "    </tr>\n",
       "    <tr>\n",
       "      <th>1</th>\n",
       "      <td>1.0</td>\n",
       "      <td>Greater Mumbai, India</td>\n",
       "      <td>22-Aug-14</td>\n",
       "      <td>Platinum</td>\n",
       "      <td>Bills</td>\n",
       "      <td>F</td>\n",
       "      <td>32555.0</td>\n",
       "    </tr>\n",
       "    <tr>\n",
       "      <th>2</th>\n",
       "      <td>2.0</td>\n",
       "      <td>Bengaluru, India</td>\n",
       "      <td>27-Aug-14</td>\n",
       "      <td>Silver</td>\n",
       "      <td>Bills</td>\n",
       "      <td>F</td>\n",
       "      <td>101738.0</td>\n",
       "    </tr>\n",
       "    <tr>\n",
       "      <th>3</th>\n",
       "      <td>3.0</td>\n",
       "      <td>Greater Mumbai, India</td>\n",
       "      <td>12-Apr-14</td>\n",
       "      <td>Signature</td>\n",
       "      <td>Bills</td>\n",
       "      <td>F</td>\n",
       "      <td>123424.0</td>\n",
       "    </tr>\n",
       "    <tr>\n",
       "      <th>4</th>\n",
       "      <td>4.0</td>\n",
       "      <td>Bengaluru, India</td>\n",
       "      <td>5-May-15</td>\n",
       "      <td>Gold</td>\n",
       "      <td>Bills</td>\n",
       "      <td>F</td>\n",
       "      <td>171574.0</td>\n",
       "    </tr>\n",
       "  </tbody>\n",
       "</table>\n",
       "</div>"
      ],
      "text/plain": [
       "   index                   City       Date  Card Type Exp Type Gender  \\\n",
       "0    0.0           Delhi, India  29-Oct-14       Gold    Bills      F   \n",
       "1    1.0  Greater Mumbai, India  22-Aug-14   Platinum    Bills      F   \n",
       "2    2.0       Bengaluru, India  27-Aug-14     Silver    Bills      F   \n",
       "3    3.0  Greater Mumbai, India  12-Apr-14  Signature    Bills      F   \n",
       "4    4.0       Bengaluru, India   5-May-15       Gold    Bills      F   \n",
       "\n",
       "     Amount  \n",
       "0   82475.0  \n",
       "1   32555.0  \n",
       "2  101738.0  \n",
       "3  123424.0  \n",
       "4  171574.0  "
      ]
     },
     "execution_count": 3,
     "metadata": {},
     "output_type": "execute_result"
    }
   ],
   "source": [
    "df.head() #Shows the first 5 rows of the dataset."
   ]
  },
  {
   "cell_type": "code",
   "execution_count": 4,
   "id": "04a09298",
   "metadata": {
    "execution": {
     "iopub.execute_input": "2025-07-31T18:14:07.360975Z",
     "iopub.status.busy": "2025-07-31T18:14:07.360617Z",
     "iopub.status.idle": "2025-07-31T18:14:07.394983Z",
     "shell.execute_reply": "2025-07-31T18:14:07.393720Z"
    },
    "papermill": {
     "duration": 0.04368,
     "end_time": "2025-07-31T18:14:07.397147",
     "exception": false,
     "start_time": "2025-07-31T18:14:07.353467",
     "status": "completed"
    },
    "tags": []
   },
   "outputs": [
    {
     "name": "stdout",
     "output_type": "stream",
     "text": [
      "<class 'pandas.core.frame.DataFrame'>\n",
      "RangeIndex: 26052 entries, 0 to 26051\n",
      "Data columns (total 7 columns):\n",
      " #   Column     Non-Null Count  Dtype  \n",
      "---  ------     --------------  -----  \n",
      " 0   index      101 non-null    float64\n",
      " 1   City       101 non-null    object \n",
      " 2   Date       101 non-null    object \n",
      " 3   Card Type  101 non-null    object \n",
      " 4   Exp Type   101 non-null    object \n",
      " 5   Gender     101 non-null    object \n",
      " 6   Amount     101 non-null    float64\n",
      "dtypes: float64(2), object(5)\n",
      "memory usage: 1.4+ MB\n"
     ]
    }
   ],
   "source": [
    "df.info() #Gives details about the Datatype of each column and Count of Non-Null values in each column"
   ]
  },
  {
   "cell_type": "code",
   "execution_count": 5,
   "id": "a42ac1c5",
   "metadata": {
    "execution": {
     "iopub.execute_input": "2025-07-31T18:14:07.412211Z",
     "iopub.status.busy": "2025-07-31T18:14:07.411865Z",
     "iopub.status.idle": "2025-07-31T18:14:07.434872Z",
     "shell.execute_reply": "2025-07-31T18:14:07.433878Z"
    },
    "papermill": {
     "duration": 0.032448,
     "end_time": "2025-07-31T18:14:07.436605",
     "exception": false,
     "start_time": "2025-07-31T18:14:07.404157",
     "status": "completed"
    },
    "tags": []
   },
   "outputs": [
    {
     "data": {
      "text/html": [
       "<div>\n",
       "<style scoped>\n",
       "    .dataframe tbody tr th:only-of-type {\n",
       "        vertical-align: middle;\n",
       "    }\n",
       "\n",
       "    .dataframe tbody tr th {\n",
       "        vertical-align: top;\n",
       "    }\n",
       "\n",
       "    .dataframe thead th {\n",
       "        text-align: right;\n",
       "    }\n",
       "</style>\n",
       "<table border=\"1\" class=\"dataframe\">\n",
       "  <thead>\n",
       "    <tr style=\"text-align: right;\">\n",
       "      <th></th>\n",
       "      <th>index</th>\n",
       "      <th>Amount</th>\n",
       "    </tr>\n",
       "  </thead>\n",
       "  <tbody>\n",
       "    <tr>\n",
       "      <th>count</th>\n",
       "      <td>101.000000</td>\n",
       "      <td>101.000000</td>\n",
       "    </tr>\n",
       "    <tr>\n",
       "      <th>mean</th>\n",
       "      <td>50.000000</td>\n",
       "      <td>517599.831683</td>\n",
       "    </tr>\n",
       "    <tr>\n",
       "      <th>std</th>\n",
       "      <td>29.300171</td>\n",
       "      <td>261440.499890</td>\n",
       "    </tr>\n",
       "    <tr>\n",
       "      <th>min</th>\n",
       "      <td>0.000000</td>\n",
       "      <td>19226.000000</td>\n",
       "    </tr>\n",
       "    <tr>\n",
       "      <th>25%</th>\n",
       "      <td>25.000000</td>\n",
       "      <td>302834.000000</td>\n",
       "    </tr>\n",
       "    <tr>\n",
       "      <th>50%</th>\n",
       "      <td>50.000000</td>\n",
       "      <td>525977.000000</td>\n",
       "    </tr>\n",
       "    <tr>\n",
       "      <th>75%</th>\n",
       "      <td>75.000000</td>\n",
       "      <td>722587.000000</td>\n",
       "    </tr>\n",
       "    <tr>\n",
       "      <th>max</th>\n",
       "      <td>100.000000</td>\n",
       "      <td>998077.000000</td>\n",
       "    </tr>\n",
       "  </tbody>\n",
       "</table>\n",
       "</div>"
      ],
      "text/plain": [
       "            index         Amount\n",
       "count  101.000000     101.000000\n",
       "mean    50.000000  517599.831683\n",
       "std     29.300171  261440.499890\n",
       "min      0.000000   19226.000000\n",
       "25%     25.000000  302834.000000\n",
       "50%     50.000000  525977.000000\n",
       "75%     75.000000  722587.000000\n",
       "max    100.000000  998077.000000"
      ]
     },
     "execution_count": 5,
     "metadata": {},
     "output_type": "execute_result"
    }
   ],
   "source": [
    "df.describe() # Gives details about mathematical Functions only for Numerical Columns."
   ]
  },
  {
   "cell_type": "code",
   "execution_count": 6,
   "id": "abe5483e",
   "metadata": {
    "execution": {
     "iopub.execute_input": "2025-07-31T18:14:07.450850Z",
     "iopub.status.busy": "2025-07-31T18:14:07.450503Z",
     "iopub.status.idle": "2025-07-31T18:14:07.456944Z",
     "shell.execute_reply": "2025-07-31T18:14:07.456007Z"
    },
    "papermill": {
     "duration": 0.015797,
     "end_time": "2025-07-31T18:14:07.458855",
     "exception": false,
     "start_time": "2025-07-31T18:14:07.443058",
     "status": "completed"
    },
    "tags": []
   },
   "outputs": [
    {
     "data": {
      "text/plain": [
       "(26052, 7)"
      ]
     },
     "execution_count": 6,
     "metadata": {},
     "output_type": "execute_result"
    }
   ],
   "source": [
    "df.shape #Shows the no. of rows and columns in dataset."
   ]
  },
  {
   "cell_type": "code",
   "execution_count": 7,
   "id": "08d7156e",
   "metadata": {
    "execution": {
     "iopub.execute_input": "2025-07-31T18:14:07.472621Z",
     "iopub.status.busy": "2025-07-31T18:14:07.472257Z",
     "iopub.status.idle": "2025-07-31T18:14:07.480386Z",
     "shell.execute_reply": "2025-07-31T18:14:07.479199Z"
    },
    "papermill": {
     "duration": 0.017148,
     "end_time": "2025-07-31T18:14:07.482183",
     "exception": false,
     "start_time": "2025-07-31T18:14:07.465035",
     "status": "completed"
    },
    "tags": []
   },
   "outputs": [
    {
     "data": {
      "text/plain": [
       "Index(['index', 'City', 'Date', 'Card Type', 'Exp Type', 'Gender', 'Amount'], dtype='object')"
      ]
     },
     "execution_count": 7,
     "metadata": {},
     "output_type": "execute_result"
    }
   ],
   "source": [
    "df.columns #Shows the name of columns in dataset"
   ]
  },
  {
   "cell_type": "code",
   "execution_count": 8,
   "id": "855dcdb7",
   "metadata": {
    "execution": {
     "iopub.execute_input": "2025-07-31T18:14:07.496177Z",
     "iopub.status.busy": "2025-07-31T18:14:07.495855Z",
     "iopub.status.idle": "2025-07-31T18:14:07.508696Z",
     "shell.execute_reply": "2025-07-31T18:14:07.507758Z"
    },
    "papermill": {
     "duration": 0.021787,
     "end_time": "2025-07-31T18:14:07.510302",
     "exception": false,
     "start_time": "2025-07-31T18:14:07.488515",
     "status": "completed"
    },
    "tags": []
   },
   "outputs": [
    {
     "data": {
      "text/plain": [
       "index        25951\n",
       "City         25951\n",
       "Date         25951\n",
       "Card Type    25951\n",
       "Exp Type     25951\n",
       "Gender       25951\n",
       "Amount       25951\n",
       "dtype: int64"
      ]
     },
     "execution_count": 8,
     "metadata": {},
     "output_type": "execute_result"
    }
   ],
   "source": [
    "df.isna().sum() #Counts the null values for each column"
   ]
  },
  {
   "cell_type": "code",
   "execution_count": 9,
   "id": "a59ce5ee",
   "metadata": {
    "execution": {
     "iopub.execute_input": "2025-07-31T18:14:07.527361Z",
     "iopub.status.busy": "2025-07-31T18:14:07.527009Z",
     "iopub.status.idle": "2025-07-31T18:14:07.541435Z",
     "shell.execute_reply": "2025-07-31T18:14:07.540354Z"
    },
    "papermill": {
     "duration": 0.025405,
     "end_time": "2025-07-31T18:14:07.543355",
     "exception": false,
     "start_time": "2025-07-31T18:14:07.517950",
     "status": "completed"
    },
    "tags": []
   },
   "outputs": [],
   "source": [
    "df=df.dropna() #Drop the rows where null values are present."
   ]
  },
  {
   "cell_type": "code",
   "execution_count": 10,
   "id": "66e72b1b",
   "metadata": {
    "execution": {
     "iopub.execute_input": "2025-07-31T18:14:07.558312Z",
     "iopub.status.busy": "2025-07-31T18:14:07.558003Z",
     "iopub.status.idle": "2025-07-31T18:14:07.564438Z",
     "shell.execute_reply": "2025-07-31T18:14:07.563419Z"
    },
    "papermill": {
     "duration": 0.01623,
     "end_time": "2025-07-31T18:14:07.566151",
     "exception": false,
     "start_time": "2025-07-31T18:14:07.549921",
     "status": "completed"
    },
    "tags": []
   },
   "outputs": [
    {
     "data": {
      "text/plain": [
       "(101, 7)"
      ]
     },
     "execution_count": 10,
     "metadata": {},
     "output_type": "execute_result"
    }
   ],
   "source": [
    "df.shape #Shows the updated rows and column count"
   ]
  },
  {
   "cell_type": "code",
   "execution_count": 11,
   "id": "3dfeb984",
   "metadata": {
    "execution": {
     "iopub.execute_input": "2025-07-31T18:14:07.580337Z",
     "iopub.status.busy": "2025-07-31T18:14:07.580053Z",
     "iopub.status.idle": "2025-07-31T18:14:07.590545Z",
     "shell.execute_reply": "2025-07-31T18:14:07.589541Z"
    },
    "papermill": {
     "duration": 0.019542,
     "end_time": "2025-07-31T18:14:07.592290",
     "exception": false,
     "start_time": "2025-07-31T18:14:07.572748",
     "status": "completed"
    },
    "tags": []
   },
   "outputs": [
    {
     "data": {
      "text/plain": [
       "index        101\n",
       "City           4\n",
       "Date          91\n",
       "Card Type      4\n",
       "Exp Type       1\n",
       "Gender         1\n",
       "Amount       101\n",
       "dtype: int64"
      ]
     },
     "execution_count": 11,
     "metadata": {},
     "output_type": "execute_result"
    }
   ],
   "source": [
    "df.nunique() #Counts the unique values in each column"
   ]
  },
  {
   "cell_type": "markdown",
   "id": "a4a2a562",
   "metadata": {
    "papermill": {
     "duration": 0.006523,
     "end_time": "2025-07-31T18:14:07.606000",
     "exception": false,
     "start_time": "2025-07-31T18:14:07.599477",
     "status": "completed"
    },
    "tags": []
   },
   "source": [
    "# Pandas Functions and Analysis"
   ]
  },
  {
   "cell_type": "code",
   "execution_count": 12,
   "id": "19433e8c",
   "metadata": {
    "execution": {
     "iopub.execute_input": "2025-07-31T18:14:07.620306Z",
     "iopub.status.busy": "2025-07-31T18:14:07.619990Z",
     "iopub.status.idle": "2025-07-31T18:14:07.629023Z",
     "shell.execute_reply": "2025-07-31T18:14:07.628116Z"
    },
    "papermill": {
     "duration": 0.018124,
     "end_time": "2025-07-31T18:14:07.630629",
     "exception": false,
     "start_time": "2025-07-31T18:14:07.612505",
     "status": "completed"
    },
    "tags": []
   },
   "outputs": [
    {
     "data": {
      "text/plain": [
       "City\n",
       "Greater Mumbai, India    34\n",
       "Delhi, India             27\n",
       "Bengaluru, India         20\n",
       "Ahmedabad, India         20\n",
       "Name: count, dtype: int64"
      ]
     },
     "execution_count": 12,
     "metadata": {},
     "output_type": "execute_result"
    }
   ],
   "source": [
    "df['City'].value_counts() #Counts the no. of times each city has occured in dataset"
   ]
  },
  {
   "cell_type": "code",
   "execution_count": 13,
   "id": "8a6d7045",
   "metadata": {
    "execution": {
     "iopub.execute_input": "2025-07-31T18:14:07.645840Z",
     "iopub.status.busy": "2025-07-31T18:14:07.645164Z",
     "iopub.status.idle": "2025-07-31T18:14:07.653954Z",
     "shell.execute_reply": "2025-07-31T18:14:07.652938Z"
    },
    "papermill": {
     "duration": 0.018132,
     "end_time": "2025-07-31T18:14:07.655514",
     "exception": false,
     "start_time": "2025-07-31T18:14:07.637382",
     "status": "completed"
    },
    "tags": []
   },
   "outputs": [
    {
     "data": {
      "text/plain": [
       "Card Type\n",
       "Platinum     33\n",
       "Gold         28\n",
       "Signature    23\n",
       "Silver       17\n",
       "Name: count, dtype: int64"
      ]
     },
     "execution_count": 13,
     "metadata": {},
     "output_type": "execute_result"
    }
   ],
   "source": [
    "df['Card Type'].value_counts() #Counts the no. of times each card type has occured in dataset"
   ]
  },
  {
   "cell_type": "markdown",
   "id": "3d095067",
   "metadata": {
    "papermill": {
     "duration": 0.006879,
     "end_time": "2025-07-31T18:14:07.669317",
     "exception": false,
     "start_time": "2025-07-31T18:14:07.662438",
     "status": "completed"
    },
    "tags": []
   },
   "source": [
    "# Data Visualization"
   ]
  },
  {
   "cell_type": "code",
   "execution_count": 14,
   "id": "bc0f96e7",
   "metadata": {
    "execution": {
     "iopub.execute_input": "2025-07-31T18:14:07.685774Z",
     "iopub.status.busy": "2025-07-31T18:14:07.685373Z",
     "iopub.status.idle": "2025-07-31T18:14:08.176927Z",
     "shell.execute_reply": "2025-07-31T18:14:08.175783Z"
    },
    "papermill": {
     "duration": 0.50216,
     "end_time": "2025-07-31T18:14:08.178992",
     "exception": false,
     "start_time": "2025-07-31T18:14:07.676832",
     "status": "completed"
    },
    "tags": []
   },
   "outputs": [
    {
     "data": {
      "text/plain": [
       "<Axes: xlabel='Amount', ylabel='Count'>"
      ]
     },
     "execution_count": 14,
     "metadata": {},
     "output_type": "execute_result"
    },
    {
     "data": {
      "image/png": "[encoded data removed]",
      "text/plain": [
       "<Figure size 640x480 with 1 Axes>"
      ]
     },
     "metadata": {},
     "output_type": "display_data"
    }
   ],
   "source": [
    "sns.histplot(df['Amount'],kde=True,bins=20) #Draws a histogram for Amount Values to check for Normal Distribution"
   ]
  },
  {
   "cell_type": "code",
   "execution_count": 15,
   "id": "149837b2",
   "metadata": {
    "execution": {
     "iopub.execute_input": "2025-07-31T18:14:08.197543Z",
     "iopub.status.busy": "2025-07-31T18:14:08.197206Z",
     "iopub.status.idle": "2025-07-31T18:14:08.366798Z",
     "shell.execute_reply": "2025-07-31T18:14:08.365467Z"
    },
    "papermill": {
     "duration": 0.180455,
     "end_time": "2025-07-31T18:14:08.368437",
     "exception": false,
     "start_time": "2025-07-31T18:14:08.187982",
     "status": "completed"
    },
    "tags": []
   },
   "outputs": [
    {
     "data": {
      "text/plain": [
       "<Axes: xlabel='Card Type', ylabel='count'>"
      ]
     },
     "execution_count": 15,
     "metadata": {},
     "output_type": "execute_result"
    },
    {
     "data": {
      "image/png": "[encoded data removed]",
      "text/plain": [
       "<Figure size 640x480 with 1 Axes>"
      ]
     },
     "metadata": {},
     "output_type": "display_data"
    }
   ],
   "source": [
    "sns.countplot(x=df['Card Type']) #Counts the different Card type in dataset"
   ]
  },
  {
   "cell_type": "code",
   "execution_count": 16,
   "id": "c093ccc4",
   "metadata": {
    "execution": {
     "iopub.execute_input": "2025-07-31T18:14:08.385195Z",
     "iopub.status.busy": "2025-07-31T18:14:08.384914Z",
     "iopub.status.idle": "2025-07-31T18:14:08.625599Z",
     "shell.execute_reply": "2025-07-31T18:14:08.624603Z"
    },
    "papermill": {
     "duration": 0.250954,
     "end_time": "2025-07-31T18:14:08.627383",
     "exception": false,
     "start_time": "2025-07-31T18:14:08.376429",
     "status": "completed"
    },
    "tags": []
   },
   "outputs": [
    {
     "data": {
      "text/plain": [
       "<Axes: xlabel='Card Type', ylabel='Amount'>"
      ]
     },
     "execution_count": 16,
     "metadata": {},
     "output_type": "execute_result"
    },
    {
     "data": {
      "image/png": "[encoded data removed]",
      "text/plain": [
       "<Figure size 640x480 with 1 Axes>"
      ]
     },
     "metadata": {},
     "output_type": "display_data"
    }
   ],
   "source": [
    "sns.barplot(x=df['Card Type'],y=df['Amount'],estimator=np.mean) #Plots the mean of amount for each card type"
   ]
  },
  {
   "cell_type": "code",
   "execution_count": 17,
   "id": "30532972",
   "metadata": {
    "execution": {
     "iopub.execute_input": "2025-07-31T18:14:08.644929Z",
     "iopub.status.busy": "2025-07-31T18:14:08.644548Z",
     "iopub.status.idle": "2025-07-31T18:14:08.891836Z",
     "shell.execute_reply": "2025-07-31T18:14:08.890483Z"
    },
    "papermill": {
     "duration": 0.258074,
     "end_time": "2025-07-31T18:14:08.893666",
     "exception": false,
     "start_time": "2025-07-31T18:14:08.635592",
     "status": "completed"
    },
    "tags": []
   },
   "outputs": [
    {
     "data": {
      "text/plain": [
       "<Axes: xlabel='Card Type', ylabel='Amount'>"
      ]
     },
     "execution_count": 17,
     "metadata": {},
     "output_type": "execute_result"
    },
    {
     "data": {
      "image/png": "[encoded data removed]",
      "text/plain": [
       "<Figure size 640x480 with 1 Axes>"
      ]
     },
     "metadata": {},
     "output_type": "display_data"
    }
   ],
   "source": [
    "sns.barplot(x=df['Card Type'],y=df['Amount'],estimator=np.sum) #Plots the sum of amount for each card type"
   ]
  },
  {
   "cell_type": "code",
   "execution_count": 18,
   "id": "6df01915",
   "metadata": {
    "execution": {
     "iopub.execute_input": "2025-07-31T18:14:08.912321Z",
     "iopub.status.busy": "2025-07-31T18:14:08.911988Z",
     "iopub.status.idle": "2025-07-31T18:14:09.135768Z",
     "shell.execute_reply": "2025-07-31T18:14:09.134880Z"
    },
    "papermill": {
     "duration": 0.235511,
     "end_time": "2025-07-31T18:14:09.137954",
     "exception": false,
     "start_time": "2025-07-31T18:14:08.902443",
     "status": "completed"
    },
    "tags": []
   },
   "outputs": [
    {
     "data": {
      "text/plain": [
       "<Axes: xlabel='Card Type', ylabel='Amount'>"
      ]
     },
     "execution_count": 18,
     "metadata": {},
     "output_type": "execute_result"
    },
    {
     "data": {
      "image/png": "[encoded data removed]",
      "text/plain": [
       "<Figure size 640x480 with 1 Axes>"
      ]
     },
     "metadata": {},
     "output_type": "display_data"
    }
   ],
   "source": [
    "sns.barplot(x=df['Card Type'],y=df['Amount'],estimator=np.max) #Plots the maximum value of amount for each card type"
   ]
  },
  {
   "cell_type": "code",
   "execution_count": 19,
   "id": "0e09a4c4",
   "metadata": {
    "execution": {
     "iopub.execute_input": "2025-07-31T18:14:09.159152Z",
     "iopub.status.busy": "2025-07-31T18:14:09.158815Z",
     "iopub.status.idle": "2025-07-31T18:14:09.374665Z",
     "shell.execute_reply": "2025-07-31T18:14:09.373723Z"
    },
    "papermill": {
     "duration": 0.228287,
     "end_time": "2025-07-31T18:14:09.376418",
     "exception": false,
     "start_time": "2025-07-31T18:14:09.148131",
     "status": "completed"
    },
    "tags": []
   },
   "outputs": [
    {
     "data": {
      "text/plain": [
       "<Axes: xlabel='Card Type', ylabel='Amount'>"
      ]
     },
     "execution_count": 19,
     "metadata": {},
     "output_type": "execute_result"
    },
    {
     "data": {
      "image/png": "[encoded data removed]",
      "text/plain": [
       "<Figure size 640x480 with 1 Axes>"
      ]
     },
     "metadata": {},
     "output_type": "display_data"
    }
   ],
   "source": [
    "sns.barplot(x=df['Card Type'],y=df['Amount'],estimator=np.min) #Plots the minimum value of amount for each card type"
   ]
  },
  {
   "cell_type": "code",
   "execution_count": 20,
   "id": "e471e236",
   "metadata": {
    "execution": {
     "iopub.execute_input": "2025-07-31T18:14:09.397937Z",
     "iopub.status.busy": "2025-07-31T18:14:09.397606Z",
     "iopub.status.idle": "2025-07-31T18:14:09.632618Z",
     "shell.execute_reply": "2025-07-31T18:14:09.631526Z"
    },
    "papermill": {
     "duration": 0.247267,
     "end_time": "2025-07-31T18:14:09.634364",
     "exception": false,
     "start_time": "2025-07-31T18:14:09.387097",
     "status": "completed"
    },
    "tags": []
   },
   "outputs": [
    {
     "data": {
      "text/plain": [
       "<Axes: xlabel='Amount', ylabel='City'>"
      ]
     },
     "execution_count": 20,
     "metadata": {},
     "output_type": "execute_result"
    },
    {
     "data": {
      "image/png": "[encoded data removed]",
      "text/plain": [
       "<Figure size 640x480 with 1 Axes>"
      ]
     },
     "metadata": {},
     "output_type": "display_data"
    }
   ],
   "source": [
    "sns.barplot(y=df['City'],x=df['Amount'],estimator=np.mean) #Plots the mean of amount for each City"
   ]
  },
  {
   "cell_type": "code",
   "execution_count": 21,
   "id": "79f90b1d",
   "metadata": {
    "execution": {
     "iopub.execute_input": "2025-07-31T18:14:09.655177Z",
     "iopub.status.busy": "2025-07-31T18:14:09.654886Z",
     "iopub.status.idle": "2025-07-31T18:14:09.888735Z",
     "shell.execute_reply": "2025-07-31T18:14:09.887508Z"
    },
    "papermill": {
     "duration": 0.246143,
     "end_time": "2025-07-31T18:14:09.890532",
     "exception": false,
     "start_time": "2025-07-31T18:14:09.644389",
     "status": "completed"
    },
    "tags": []
   },
   "outputs": [
    {
     "data": {
      "text/plain": [
       "<Axes: xlabel='Amount', ylabel='City'>"
      ]
     },
     "execution_count": 21,
     "metadata": {},
     "output_type": "execute_result"
    },
    {
     "data": {
      "image/png": "[encoded data removed]",
      "text/plain": [
       "<Figure size 640x480 with 1 Axes>"
      ]
     },
     "metadata": {},
     "output_type": "display_data"
    }
   ],
   "source": [
    "sns.barplot(y=df['City'],x=df['Amount'],estimator=np.sum) #Plots the sum of amount for each City"
   ]
  },
  {
   "cell_type": "code",
   "execution_count": 22,
   "id": "086a299a",
   "metadata": {
    "execution": {
     "iopub.execute_input": "2025-07-31T18:14:09.981904Z",
     "iopub.status.busy": "2025-07-31T18:14:09.981531Z",
     "iopub.status.idle": "2025-07-31T18:14:10.213750Z",
     "shell.execute_reply": "2025-07-31T18:14:10.212717Z"
    },
    "papermill": {
     "duration": 0.245701,
     "end_time": "2025-07-31T18:14:10.215966",
     "exception": false,
     "start_time": "2025-07-31T18:14:09.970265",
     "status": "completed"
    },
    "tags": []
   },
   "outputs": [
    {
     "data": {
      "text/plain": [
       "<Axes: xlabel='Amount', ylabel='City'>"
      ]
     },
     "execution_count": 22,
     "metadata": {},
     "output_type": "execute_result"
    },
    {
     "data": {
      "image/png": "[encoded data removed]",
      "text/plain": [
       "<Figure size 640x480 with 1 Axes>"
      ]
     },
     "metadata": {},
     "output_type": "display_data"
    }
   ],
   "source": [
    "sns.barplot(y=df['City'],x=df['Amount'],estimator=np.max) #Plots the maximum value of amount for each City"
   ]
  },
  {
   "cell_type": "code",
   "execution_count": 23,
   "id": "31b22a04",
   "metadata": {
    "execution": {
     "iopub.execute_input": "2025-07-31T18:14:10.242779Z",
     "iopub.status.busy": "2025-07-31T18:14:10.242428Z",
     "iopub.status.idle": "2025-07-31T18:14:10.471613Z",
     "shell.execute_reply": "2025-07-31T18:14:10.470435Z"
    },
    "papermill": {
     "duration": 0.244596,
     "end_time": "2025-07-31T18:14:10.473525",
     "exception": false,
     "start_time": "2025-07-31T18:14:10.228929",
     "status": "completed"
    },
    "tags": []
   },
   "outputs": [
    {
     "data": {
      "text/plain": [
       "<Axes: xlabel='Amount', ylabel='City'>"
      ]
     },
     "execution_count": 23,
     "metadata": {},
     "output_type": "execute_result"
    },
    {
     "data": {
      "image/png": "[encoded data removed]",
      "text/plain": [
       "<Figure size 640x480 with 1 Axes>"
      ]
     },
     "metadata": {},
     "output_type": "display_data"
    }
   ],
   "source": [
    "sns.barplot(y=df['City'],x=df['Amount'],estimator=np.min) #Plots the minimum value of amount for each City"
   ]
  },
  {
   "cell_type": "markdown",
   "id": "077ca209",
   "metadata": {
    "papermill": {
     "duration": 0.011443,
     "end_time": "2025-07-31T18:14:10.497007",
     "exception": false,
     "start_time": "2025-07-31T18:14:10.485564",
     "status": "completed"
    },
    "tags": []
   },
   "source": [
    "# Advance Visualization"
   ]
  },
  {
   "cell_type": "code",
   "execution_count": 24,
   "id": "08b93008",
   "metadata": {
    "execution": {
     "iopub.execute_input": "2025-07-31T18:14:10.522985Z",
     "iopub.status.busy": "2025-07-31T18:14:10.522668Z",
     "iopub.status.idle": "2025-07-31T18:14:10.540470Z",
     "shell.execute_reply": "2025-07-31T18:14:10.539537Z"
    },
    "papermill": {
     "duration": 0.033197,
     "end_time": "2025-07-31T18:14:10.542053",
     "exception": false,
     "start_time": "2025-07-31T18:14:10.508856",
     "status": "completed"
    },
    "tags": []
   },
   "outputs": [
    {
     "data": {
      "text/html": [
       "<div>\n",
       "<style scoped>\n",
       "    .dataframe tbody tr th:only-of-type {\n",
       "        vertical-align: middle;\n",
       "    }\n",
       "\n",
       "    .dataframe tbody tr th {\n",
       "        vertical-align: top;\n",
       "    }\n",
       "\n",
       "    .dataframe thead th {\n",
       "        text-align: right;\n",
       "    }\n",
       "</style>\n",
       "<table border=\"1\" class=\"dataframe\">\n",
       "  <thead>\n",
       "    <tr style=\"text-align: right;\">\n",
       "      <th></th>\n",
       "      <th>index</th>\n",
       "      <th>City</th>\n",
       "      <th>Date</th>\n",
       "      <th>Card Type</th>\n",
       "      <th>Exp Type</th>\n",
       "      <th>Gender</th>\n",
       "      <th>Amount</th>\n",
       "      <th>Month</th>\n",
       "    </tr>\n",
       "  </thead>\n",
       "  <tbody>\n",
       "    <tr>\n",
       "      <th>0</th>\n",
       "      <td>0.0</td>\n",
       "      <td>Delhi, India</td>\n",
       "      <td>29-Oct-14</td>\n",
       "      <td>Gold</td>\n",
       "      <td>Bills</td>\n",
       "      <td>F</td>\n",
       "      <td>82475.0</td>\n",
       "      <td>Oct</td>\n",
       "    </tr>\n",
       "    <tr>\n",
       "      <th>1</th>\n",
       "      <td>1.0</td>\n",
       "      <td>Greater Mumbai, India</td>\n",
       "      <td>22-Aug-14</td>\n",
       "      <td>Platinum</td>\n",
       "      <td>Bills</td>\n",
       "      <td>F</td>\n",
       "      <td>32555.0</td>\n",
       "      <td>Aug</td>\n",
       "    </tr>\n",
       "    <tr>\n",
       "      <th>2</th>\n",
       "      <td>2.0</td>\n",
       "      <td>Bengaluru, India</td>\n",
       "      <td>27-Aug-14</td>\n",
       "      <td>Silver</td>\n",
       "      <td>Bills</td>\n",
       "      <td>F</td>\n",
       "      <td>101738.0</td>\n",
       "      <td>Aug</td>\n",
       "    </tr>\n",
       "    <tr>\n",
       "      <th>3</th>\n",
       "      <td>3.0</td>\n",
       "      <td>Greater Mumbai, India</td>\n",
       "      <td>12-Apr-14</td>\n",
       "      <td>Signature</td>\n",
       "      <td>Bills</td>\n",
       "      <td>F</td>\n",
       "      <td>123424.0</td>\n",
       "      <td>Apr</td>\n",
       "    </tr>\n",
       "    <tr>\n",
       "      <th>4</th>\n",
       "      <td>4.0</td>\n",
       "      <td>Bengaluru, India</td>\n",
       "      <td>5-May-15</td>\n",
       "      <td>Gold</td>\n",
       "      <td>Bills</td>\n",
       "      <td>F</td>\n",
       "      <td>171574.0</td>\n",
       "      <td>May</td>\n",
       "    </tr>\n",
       "    <tr>\n",
       "      <th>...</th>\n",
       "      <td>...</td>\n",
       "      <td>...</td>\n",
       "      <td>...</td>\n",
       "      <td>...</td>\n",
       "      <td>...</td>\n",
       "      <td>...</td>\n",
       "      <td>...</td>\n",
       "      <td>...</td>\n",
       "    </tr>\n",
       "    <tr>\n",
       "      <th>96</th>\n",
       "      <td>96.0</td>\n",
       "      <td>Bengaluru, India</td>\n",
       "      <td>1-Nov-13</td>\n",
       "      <td>Gold</td>\n",
       "      <td>Bills</td>\n",
       "      <td>F</td>\n",
       "      <td>896384.0</td>\n",
       "      <td>Nov</td>\n",
       "    </tr>\n",
       "    <tr>\n",
       "      <th>97</th>\n",
       "      <td>97.0</td>\n",
       "      <td>Delhi, India</td>\n",
       "      <td>7-Dec-13</td>\n",
       "      <td>Signature</td>\n",
       "      <td>Bills</td>\n",
       "      <td>F</td>\n",
       "      <td>712001.0</td>\n",
       "      <td>Dec</td>\n",
       "    </tr>\n",
       "    <tr>\n",
       "      <th>98</th>\n",
       "      <td>98.0</td>\n",
       "      <td>Greater Mumbai, India</td>\n",
       "      <td>5-Aug-14</td>\n",
       "      <td>Silver</td>\n",
       "      <td>Bills</td>\n",
       "      <td>F</td>\n",
       "      <td>246865.0</td>\n",
       "      <td>Aug</td>\n",
       "    </tr>\n",
       "    <tr>\n",
       "      <th>99</th>\n",
       "      <td>99.0</td>\n",
       "      <td>Greater Mumbai, India</td>\n",
       "      <td>8-Jan-15</td>\n",
       "      <td>Signature</td>\n",
       "      <td>Bills</td>\n",
       "      <td>F</td>\n",
       "      <td>858729.0</td>\n",
       "      <td>Jan</td>\n",
       "    </tr>\n",
       "    <tr>\n",
       "      <th>100</th>\n",
       "      <td>100.0</td>\n",
       "      <td>Delhi, India</td>\n",
       "      <td>11-Apr-15</td>\n",
       "      <td>Platinum</td>\n",
       "      <td>Bills</td>\n",
       "      <td>F</td>\n",
       "      <td>581882.0</td>\n",
       "      <td>Apr</td>\n",
       "    </tr>\n",
       "  </tbody>\n",
       "</table>\n",
       "<p>101 rows × 8 columns</p>\n",
       "</div>"
      ],
      "text/plain": [
       "     index                   City       Date  Card Type Exp Type Gender  \\\n",
       "0      0.0           Delhi, India  29-Oct-14       Gold    Bills      F   \n",
       "1      1.0  Greater Mumbai, India  22-Aug-14   Platinum    Bills      F   \n",
       "2      2.0       Bengaluru, India  27-Aug-14     Silver    Bills      F   \n",
       "3      3.0  Greater Mumbai, India  12-Apr-14  Signature    Bills      F   \n",
       "4      4.0       Bengaluru, India   5-May-15       Gold    Bills      F   \n",
       "..     ...                    ...        ...        ...      ...    ...   \n",
       "96    96.0       Bengaluru, India   1-Nov-13       Gold    Bills      F   \n",
       "97    97.0           Delhi, India   7-Dec-13  Signature    Bills      F   \n",
       "98    98.0  Greater Mumbai, India   5-Aug-14     Silver    Bills      F   \n",
       "99    99.0  Greater Mumbai, India   8-Jan-15  Signature    Bills      F   \n",
       "100  100.0           Delhi, India  11-Apr-15   Platinum    Bills      F   \n",
       "\n",
       "       Amount Month  \n",
       "0     82475.0   Oct  \n",
       "1     32555.0   Aug  \n",
       "2    101738.0   Aug  \n",
       "3    123424.0   Apr  \n",
       "4    171574.0   May  \n",
       "..        ...   ...  \n",
       "96   896384.0   Nov  \n",
       "97   712001.0   Dec  \n",
       "98   246865.0   Aug  \n",
       "99   858729.0   Jan  \n",
       "100  581882.0   Apr  \n",
       "\n",
       "[101 rows x 8 columns]"
      ]
     },
     "execution_count": 24,
     "metadata": {},
     "output_type": "execute_result"
    }
   ],
   "source": [
    "#Extracting Month feature from the Date column using python.\n",
    "df['Month']=df['Date'].apply(lambda x:x.split('-')[1])\n",
    "df"
   ]
  },
  {
   "cell_type": "code",
   "execution_count": 25,
   "id": "4ead4266",
   "metadata": {
    "execution": {
     "iopub.execute_input": "2025-07-31T18:14:10.567093Z",
     "iopub.status.busy": "2025-07-31T18:14:10.566799Z",
     "iopub.status.idle": "2025-07-31T18:14:10.574241Z",
     "shell.execute_reply": "2025-07-31T18:14:10.573331Z"
    },
    "papermill": {
     "duration": 0.021804,
     "end_time": "2025-07-31T18:14:10.576066",
     "exception": false,
     "start_time": "2025-07-31T18:14:10.554262",
     "status": "completed"
    },
    "tags": []
   },
   "outputs": [
    {
     "data": {
      "text/plain": [
       "Month\n",
       "Feb    14\n",
       "Apr    12\n",
       "Mar    11\n",
       "Jan    11\n",
       "Nov     9\n",
       "Oct     8\n",
       "Dec     8\n",
       "Jun     7\n",
       "Aug     6\n",
       "May     6\n",
       "Sep     5\n",
       "Jul     4\n",
       "Name: count, dtype: int64"
      ]
     },
     "execution_count": 25,
     "metadata": {},
     "output_type": "execute_result"
    }
   ],
   "source": [
    "df['Month'].value_counts() #Counts how many times each month has appeared in dataset."
   ]
  },
  {
   "cell_type": "code",
   "execution_count": 26,
   "id": "367bcc34",
   "metadata": {
    "execution": {
     "iopub.execute_input": "2025-07-31T18:14:10.602632Z",
     "iopub.status.busy": "2025-07-31T18:14:10.602274Z",
     "iopub.status.idle": "2025-07-31T18:14:10.995580Z",
     "shell.execute_reply": "2025-07-31T18:14:10.994618Z"
    },
    "papermill": {
     "duration": 0.409859,
     "end_time": "2025-07-31T18:14:10.997465",
     "exception": false,
     "start_time": "2025-07-31T18:14:10.587606",
     "status": "completed"
    },
    "tags": []
   },
   "outputs": [
    {
     "data": {
      "text/plain": [
       "<Axes: xlabel='Amount', ylabel='Month'>"
      ]
     },
     "execution_count": 26,
     "metadata": {},
     "output_type": "execute_result"
    },
    {
     "data": {
      "image/png": "[encoded data removed]",
      "text/plain": [
       "<Figure size 640x480 with 1 Axes>"
      ]
     },
     "metadata": {},
     "output_type": "display_data"
    }
   ],
   "source": [
    "sns.barplot(x='Amount',y='Month',data=df,estimator=np.sum) #Plots the sum of amount for each Month"
   ]
  },
  {
   "cell_type": "code",
   "execution_count": 27,
   "id": "cfe66920",
   "metadata": {
    "execution": {
     "iopub.execute_input": "2025-07-31T18:14:11.025625Z",
     "iopub.status.busy": "2025-07-31T18:14:11.025324Z",
     "iopub.status.idle": "2025-07-31T18:14:11.475885Z",
     "shell.execute_reply": "2025-07-31T18:14:11.474670Z"
    },
    "papermill": {
     "duration": 0.466781,
     "end_time": "2025-07-31T18:14:11.477705",
     "exception": false,
     "start_time": "2025-07-31T18:14:11.010924",
     "status": "completed"
    },
    "tags": []
   },
   "outputs": [
    {
     "data": {
      "text/plain": [
       "<Axes: xlabel='Amount', ylabel='Month'>"
      ]
     },
     "execution_count": 27,
     "metadata": {},
     "output_type": "execute_result"
    },
    {
     "data": {
      "image/png": "[encoded data removed]",
      "text/plain": [
       "<Figure size 640x480 with 1 Axes>"
      ]
     },
     "metadata": {},
     "output_type": "display_data"
    }
   ],
   "source": [
    "sns.barplot(x='Amount',y='Month',data=df,estimator=np.mean) #Plots the mean of amount for each Month"
   ]
  },
  {
   "cell_type": "code",
   "execution_count": 28,
   "id": "b058a1ae",
   "metadata": {
    "execution": {
     "iopub.execute_input": "2025-07-31T18:14:11.504734Z",
     "iopub.status.busy": "2025-07-31T18:14:11.504315Z",
     "iopub.status.idle": "2025-07-31T18:14:11.897067Z",
     "shell.execute_reply": "2025-07-31T18:14:11.895925Z"
    },
    "papermill": {
     "duration": 0.40831,
     "end_time": "2025-07-31T18:14:11.898840",
     "exception": false,
     "start_time": "2025-07-31T18:14:11.490530",
     "status": "completed"
    },
    "tags": []
   },
   "outputs": [
    {
     "data": {
      "text/plain": [
       "<Axes: xlabel='Amount', ylabel='Month'>"
      ]
     },
     "execution_count": 28,
     "metadata": {},
     "output_type": "execute_result"
    },
    {
     "data": {
      "image/png": "[encoded data removed]",
      "text/plain": [
       "<Figure size 640x480 with 1 Axes>"
      ]
     },
     "metadata": {},
     "output_type": "display_data"
    }
   ],
   "source": [
    "sns.barplot(x='Amount',y='Month',data=df,estimator=np.max) #Plots the maximum value of amount for each Month"
   ]
  },
  {
   "cell_type": "code",
   "execution_count": 29,
   "id": "38cc1abb",
   "metadata": {
    "execution": {
     "iopub.execute_input": "2025-07-31T18:14:11.925986Z",
     "iopub.status.busy": "2025-07-31T18:14:11.925597Z",
     "iopub.status.idle": "2025-07-31T18:14:12.337610Z",
     "shell.execute_reply": "2025-07-31T18:14:12.336691Z"
    },
    "papermill": {
     "duration": 0.427651,
     "end_time": "2025-07-31T18:14:12.339412",
     "exception": false,
     "start_time": "2025-07-31T18:14:11.911761",
     "status": "completed"
    },
    "tags": []
   },
   "outputs": [
    {
     "data": {
      "text/plain": [
       "<Axes: xlabel='Amount', ylabel='Month'>"
      ]
     },
     "execution_count": 29,
     "metadata": {},
     "output_type": "execute_result"
    },
    {
     "data": {
      "image/png": "[encoded data removed]",
      "text/plain": [
       "<Figure size 640x480 with 1 Axes>"
      ]
     },
     "metadata": {},
     "output_type": "display_data"
    }
   ],
   "source": [
    "sns.barplot(x='Amount',y='Month',data=df,estimator=np.min) #Plots the minimum value of amount for each Month"
   ]
  },
  {
   "cell_type": "markdown",
   "id": "40e5b607",
   "metadata": {
    "papermill": {
     "duration": 0.013216,
     "end_time": "2025-07-31T18:14:12.366829",
     "exception": false,
     "start_time": "2025-07-31T18:14:12.353613",
     "status": "completed"
    },
    "tags": []
   },
   "source": [
    "# Conclusion"
   ]
  },
  {
   "cell_type": "markdown",
   "id": "3db869cb",
   "metadata": {
    "papermill": {
     "duration": 0.013096,
     "end_time": "2025-07-31T18:14:12.394065",
     "exception": false,
     "start_time": "2025-07-31T18:14:12.380969",
     "status": "completed"
    },
    "tags": []
   },
   "source": [
    "With the different plots you can analyze the dataset and answer various questions. Feel free to review my notebook and ping me up for any questions or other ideas."
   ]
  }
 ],
 "metadata": {
  "kaggle": {
   "accelerator": "none",
   "dataSources": [
    {
     "datasetId": 7971199,
     "sourceId": 12617280,
     "sourceType": "datasetVersion"
    }
   ],
   "dockerImageVersionId": 31089,
   "isGpuEnabled": false,
   "isInternetEnabled": true,
   "language": "python",
   "sourceType": "notebook"
  },
  "kernelspec": {
   "display_name": "Python 3",
   "language": "python",
   "name": "python3"
  },
  "language_info": {
   "codemirror_mode": {
    "name": "ipython",
    "version": 3
   },
   "file_extension": ".py",
   "mimetype": "text/x-python",
   "name": "python",
   "nbconvert_exporter": "python",
   "pygments_lexer": "ipython3",
   "version": "3.11.13"
  },
  "papermill": {
   "default_parameters": {},
   "duration": 16.406762,
   "end_time": "2025-07-31T18:14:13.235441",
   "environment_variables": {},
   "exception": null,
   "input_path": "__notebook__.ipynb",
   "output_path": "__notebook__.ipynb",
   "parameters": {},
   "start_time": "2025-07-31T18:13:56.828679",
   "version": "2.6.0"
  }
 },
 "nbformat": 4,
 "nbformat_minor": 5
}
